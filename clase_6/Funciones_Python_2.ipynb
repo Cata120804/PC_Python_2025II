{
  "nbformat": 4,
  "nbformat_minor": 5,
  "metadata": {
    "colab": {
      "provenance": [],
      "include_colab_link": true
    },
    "language_info": {
      "name": "python"
    },
    "kernelspec": {
      "name": "python3",
      "display_name": "Python 3"
    }
  },
  "cells": [
    {
      "cell_type": "markdown",
      "metadata": {
        "id": "view-in-github",
        "colab_type": "text"
      },
      "source": [
        "<a href=\"https://colab.research.google.com/github/Warspyt/PC_Python_2025II/blob/main/clase_6/Funciones_Python_2.ipynb\" target=\"_parent\"><img src=\"https://colab.research.google.com/assets/colab-badge.svg\" alt=\"Open In Colab\"/></a>"
      ]
    },
    {
      "cell_type": "markdown",
      "metadata": {
        "id": "9uS_XM2t_8ng"
      },
      "source": [
        "# Curso de Programación de Computadores en Python\n",
        "## Variable scope, funciones como parámetros y funciones anidadas\n",
        "#### Universidad Nacional de Colombia\n",
        "\n",
        "---\n",
        "### Objetivos\n",
        "- Entender el **alcance (scope)** de variables en Python y el uso de `global` y `nonlocal`.\n",
        "- Usar **funciones como parámetros** (higher-order functions) y ver casos prácticos.\n",
        "- Crear y usar **funciones anidadas** y **closures** para mantener estado.\n",
        "- Realizar ejercicios prácticos en cada sección dentro del notebook.\n"
      ],
      "id": "9uS_XM2t_8ng"
    },
    {
      "cell_type": "markdown",
      "metadata": {
        "id": "5waFs_6g_8nj"
      },
      "source": [
        "## 🔹 Cómo usar este notebook\n",
        "\n",
        "- Ejecuta las celdas de código con `Shift+Enter` para ver ejemplos.\n",
        "- Intenta resolver los ejercicios (`Esqueleto`)."
      ],
      "id": "5waFs_6g_8nj"
    },
    {
      "cell_type": "markdown",
      "metadata": {
        "id": "AkG7u2nh_8nk"
      },
      "source": [
        "# 1️⃣ Variable scope y variables globales\n",
        "\n",
        "Python sigue la regla **LEGB** para resolver nombres:\n",
        "- **L**ocal — nombres en la función actual.\n",
        "- **E**nclosing — nombres en funciones que envuelven (closures).\n",
        "- **G**lobal — nombres en el módulo.\n",
        "- **B**uiltins — nombres incorporados (`len`, `print`, ...).\n",
        "\n",
        "Entender el scope es clave para evitar errores como `UnboundLocalError` y para decidir si usar `global` o `nonlocal`."
      ],
      "id": "AkG7u2nh_8nk"
    },
    {
      "cell_type": "code",
      "metadata": {
        "colab": {
          "base_uri": "https://localhost:8080/"
        },
        "id": "qscfJcj7_8nl",
        "outputId": "2f8ba2fe-7b47-4a19-bbc5-66a537478f36"
      },
      "execution_count": 1,
      "outputs": [
        {
          "output_type": "stream",
          "name": "stdout",
          "text": [
            "x dentro de la función = 5\n",
            "x global = 10\n",
            "x fuera de funciones = 10\n"
          ]
        }
      ],
      "source": [
        "# Ejemplo 1: variable local y global con el mismo nombre\n",
        "x = 10  # variable global\n",
        "def mostrar_x_local():\n",
        "    x = 5  # variable local, oculta la global dentro de la función\n",
        "    print('x dentro de la función =', x)\n",
        "\n",
        "def mostrar_x_global():\n",
        "    print('x global =', x)\n",
        "\n",
        "mostrar_x_local()\n",
        "mostrar_x_global()\n",
        "print('x fuera de funciones =', x)"
      ],
      "id": "qscfJcj7_8nl"
    },
    {
      "cell_type": "markdown",
      "metadata": {
        "id": "KIgul_4b_8nn"
      },
      "source": [
        "### Ejemplo 2: intento de modificar variable global sin `global` — causa UnboundLocalError\n",
        "\n",
        "Si intentas asignar a `x` dentro de la función, Python crea una variable local y si antes de la asignación intentas usarla, obtendrás `UnboundLocalError`."
      ],
      "id": "KIgul_4b_8nn"
    },
    {
      "cell_type": "code",
      "metadata": {
        "id": "Fr6APqs0_8nn"
      },
      "execution_count": 2,
      "outputs": [],
      "source": [
        "y = 100\n",
        "def fallar_modificacion():\n",
        "    # la siguiente línea provoca UnboundLocalError si descomentamos el print antes de asignar\n",
        "    # print(y)  # UnboundLocalError si la función asigna a y luego intenta leer antes de asignar\n",
        "    y = y + 1  # Python interpreta y como variable local -> error\n",
        "\n",
        "# Para ver el error, descomenta la llamada (advertencia: lanzará una excepción)\n",
        "# fallar_modificacion()"
      ],
      "id": "Fr6APqs0_8nn"
    },
    {
      "cell_type": "markdown",
      "metadata": {
        "id": "l6G8uLys_8no"
      },
      "source": [
        "### Cómo modificar la variable global: usar `global` (con cautela)\n",
        "Usar `global` permite asignar a una variable definida en el ámbito global desde dentro de una función. No es recomendable abusar de `global` en código mantenible; mejor retornar valores y reasignar externamente cuando sea posible."
      ],
      "id": "l6G8uLys_8no"
    },
    {
      "cell_type": "code",
      "metadata": {
        "colab": {
          "base_uri": "https://localhost:8080/"
        },
        "id": "lm_wxc9r_8np",
        "outputId": "4b2c5bc2-7b3c-4a5d-f1a9-451a1eb1b594"
      },
      "execution_count": 3,
      "outputs": [
        {
          "output_type": "stream",
          "name": "stdout",
          "text": [
            "contador inicial = 0\n",
            "contador después = 1\n"
          ]
        }
      ],
      "source": [
        "contador = 0\n",
        "def incrementar_global():\n",
        "    global contador\n",
        "    contador += 1\n",
        "\n",
        "print('contador inicial =', contador)\n",
        "incrementar_global()\n",
        "print('contador después =', contador)"
      ],
      "id": "lm_wxc9r_8np"
    },
    {
      "cell_type": "markdown",
      "metadata": {
        "id": "RXmSeBab_8nq"
      },
      "source": [
        "### 📝 Ejercicio 1 — Scope y `global` (Esqueleto)\n",
        "\n",
        "Tienes el siguiente código. Completa la función `usar_global` para aumentar la variable `valor_global` en la cantidad `inc`. Decide si usar `global` o, preferiblemente, retorna el nuevo valor.\n",
        "\n",
        "Completa el esqueleto y prueba ambas estrategias (usar `global` y la versión que devuelve el valor)."
      ],
      "id": "RXmSeBab_8nq"
    },
    {
      "cell_type": "code",
      "metadata": {
        "id": "6rHoXm-Q_8nr"
      },
      "execution_count": null,
      "outputs": [],
      "source": [
        "# Esqueleto\n",
        "valor_global = 50\n",
        "def usar_global(inc):\n",
        "    # Opción A: usar 'global' para modificar 'valor_global'\n",
        "    # Opción B (recomendada): retornar el nuevo valor y reasignar fuera\n",
        "    pass\n",
        "\n",
        "# Pruebas sugeridas (descomentar y probar ambas estrategias):\n",
        "# usar_global(10)\n",
        "# print(valor_global)  # si usas global cambia aquí\n",
        "# # versión sin global:\n",
        "# valor_global = usar_global(10)\n",
        "# print(valor_global)"
      ],
      "id": "6rHoXm-Q_8nr"
    },
    {
      "cell_type": "markdown",
      "metadata": {
        "id": "7i8SzZ17_8ns"
      },
      "source": [
        "### `nonlocal` — modificar variable del scope envolvente (en closures)\n",
        "\n",
        "Cuando tienes funciones anidadas, `nonlocal` permite modificar la variable del scope envolvente (pero no global). Es útil en closures que mantienen estado."
      ],
      "id": "7i8SzZ17_8ns"
    },
    {
      "cell_type": "code",
      "metadata": {
        "colab": {
          "base_uri": "https://localhost:8080/"
        },
        "id": "K7yicQXL_8ns",
        "outputId": "d106376f-72b6-46bf-de5f-de3d082b39fc"
      },
      "execution_count": 4,
      "outputs": [
        {
          "output_type": "stream",
          "name": "stdout",
          "text": [
            "1\n",
            "2\n",
            "3\n"
          ]
        }
      ],
      "source": [
        "def contador_factory():\n",
        "    contador = 0\n",
        "    def incrementar():\n",
        "        nonlocal contador\n",
        "        contador += 1\n",
        "        return contador\n",
        "    return incrementar\n",
        "\n",
        "c = contador_factory()\n",
        "print(c())\n",
        "print(c())\n",
        "print(c())"
      ],
      "id": "K7yicQXL_8ns"
    },
    {
      "cell_type": "markdown",
      "metadata": {
        "id": "BnHF62AO_8nt"
      },
      "source": [
        "### 📝 Ejercicio 2 — `nonlocal` (Esqueleto)\n",
        "Implementa `make_accumulator(initial)` that returns a function that adds a given value to the accumulator and returns the total (use `nonlocal`)."
      ],
      "id": "BnHF62AO_8nt"
    },
    {
      "cell_type": "code",
      "metadata": {
        "id": "Iz2Q_VCp_8nt"
      },
      "execution_count": 5,
      "outputs": [],
      "source": [
        "# Esqueleto\n",
        "def make_accumulator(initial):\n",
        "    # devuelve una función 'add' que toma un número y lo suma al acumulador\n",
        "    pass\n",
        "\n",
        "# Prueba sugerida:\n",
        "# acc = make_accumulator(10)\n",
        "# print(acc(5))  # 15\n",
        "# print(acc(3))  # 18"
      ],
      "id": "Iz2Q_VCp_8nt"
    },
    {
      "cell_type": "markdown",
      "metadata": {
        "id": "gz6yzDAG_8nu"
      },
      "source": [
        "# 2️⃣ Functions as parameters (Funciones como parámetros)\n",
        "\n",
        "Python permite pasar funciones como argumentos, retornarlas y asignarlas a variables. Esto habilita patrones poderosos: callbacks, mappers, filtros, funciones de orden superior.\n",
        "\n",
        "Ventajas:\n",
        "- Código más abstracto y reutilizable.\n",
        "- Facilita composición de comportamientos.\n",
        "- Base de patrones como `map`, `filter`, `reduce` y decoradores."
      ],
      "id": "gz6yzDAG_8nu"
    },
    {
      "cell_type": "code",
      "metadata": {
        "colab": {
          "base_uri": "https://localhost:8080/"
        },
        "id": "7-Meubf3_8nu",
        "outputId": "c6b28b8b-f3b1-42f5-9b1a-b001db80c466"
      },
      "execution_count": 6,
      "outputs": [
        {
          "output_type": "stream",
          "name": "stdout",
          "text": [
            "7\n"
          ]
        }
      ],
      "source": [
        "# Ejemplo: aplicar una función dos veces\n",
        "def aplicar_dos_veces(func, valor):\n",
        "    return func(func(valor))\n",
        "\n",
        "def sumar_dos(x):\n",
        "    return x + 2\n",
        "\n",
        "print(aplicar_dos_veces(sumar_dos, 3))  # 7"
      ],
      "id": "7-Meubf3_8nu"
    },
    {
      "cell_type": "markdown",
      "metadata": {
        "id": "MnnPH-Uc_8nu"
      },
      "source": [
        "### Ejemplo: funciones como parámetros en sorting\n",
        "La función `sorted()` acepta `key=` que es otra función que se aplica a cada elemento para decidir el orden."
      ],
      "id": "MnnPH-Uc_8nu"
    },
    {
      "cell_type": "code",
      "metadata": {
        "id": "cHGdyIZc_8nv"
      },
      "execution_count": null,
      "outputs": [],
      "source": [
        "nombres = ['Ana', 'José', 'María', 'Alberto']\n",
        "print(sorted(nombres, key=lambda s: len(s)))  # ordena por longitud"
      ],
      "id": "cHGdyIZc_8nv"
    },
    {
      "cell_type": "markdown",
      "metadata": {
        "id": "pypyU_Yn_8nv"
      },
      "source": [
        "### 📝 Ejercicio 3 — Funciones como parámetros (Esqueleto)\n",
        "Implementa `filtrar_y_aplicar(func_cond, func_accion, start, end)` que recorre enteros de `start` a `end` (inclusive), llama a `func_cond(n)` y si es True, aplica `func_accion(n)` y muestra el resultado usando `print()`.\n",
        "No uses listas; simplemente itera y aplica."
      ],
      "id": "pypyU_Yn_8nv"
    },
    {
      "cell_type": "code",
      "metadata": {
        "id": "eo5Ibmv0_8nv"
      },
      "execution_count": null,
      "outputs": [],
      "source": [
        "# Esqueleto\n",
        "def filtrar_y_aplicar(func_cond, func_accion, start, end):\n",
        "    # recorrer n desde start hasta end inclusive\n",
        "    # si func_cond(n) es True -> calcular func_accion(n) y print\n",
        "    pass\n",
        "\n",
        "# Prueba sugerida (descomenta):\n",
        "# filtrar_y_aplicar(lambda x: x%2==0, lambda x: x*x, 1, 10)  # imprime cuadrados de pares"
      ],
      "id": "eo5Ibmv0_8nv"
    },
    {
      "cell_type": "markdown",
      "metadata": {
        "id": "f7307DmY_8nw"
      },
      "source": [
        "# 3️⃣ Nested functions (Funciones anidadas) y closures\n",
        "\n",
        "Las funciones anidadas permiten encapsular comportamiento y construir **closures**: funciones que “recuerdan” el entorno en el que fueron creadas. Muy útiles para crear fábricas de funciones o mantener estado privado."
      ],
      "id": "f7307DmY_8nw"
    },
    {
      "cell_type": "code",
      "metadata": {
        "colab": {
          "base_uri": "https://localhost:8080/"
        },
        "id": "H2yTGov1_8nw",
        "outputId": "a8fed8ee-cc93-4cba-bfe0-d7884c450f07"
      },
      "execution_count": 7,
      "outputs": [
        {
          "output_type": "stream",
          "name": "stdout",
          "text": [
            "15\n"
          ]
        }
      ],
      "source": [
        "# Ejemplo: fábrica de multiplicadores (closure)\n",
        "def make_multiplier(factor):\n",
        "    def multiply(x):\n",
        "        return x * factor\n",
        "    return multiply\n",
        "\n",
        "mul3 = make_multiplier(3)\n",
        "print(mul3(5))  # 15"
      ],
      "id": "H2yTGov1_8nw"
    },
    {
      "cell_type": "markdown",
      "metadata": {
        "id": "UqQXyUlv_8nw"
      },
      "source": [
        "### Decoradores (introducción)\n",
        "Un decorador es una función que toma una función y devuelve una función — es una aplicación práctica de funciones que retornan funciones. Se usan con la sintaxis `@decorator`."
      ],
      "id": "UqQXyUlv_8nw"
    },
    {
      "cell_type": "code",
      "metadata": {
        "colab": {
          "base_uri": "https://localhost:8080/"
        },
        "id": "ZXwUDKhK_8nw",
        "outputId": "afe39e28-f0be-479b-b9f0-bca4572982a2"
      },
      "execution_count": 8,
      "outputs": [
        {
          "output_type": "stream",
          "name": "stdout",
          "text": [
            "Antes de la función\n",
            "Hola!\n",
            "Después de la función\n"
          ]
        }
      ],
      "source": [
        "def mi_decorador(func):\n",
        "    def wrapper(*args, **kwargs):\n",
        "        print('Antes de la función')\n",
        "        resultado = func(*args, **kwargs)\n",
        "        print('Después de la función')\n",
        "        return resultado\n",
        "    return wrapper\n",
        "\n",
        "@mi_decorador\n",
        "def di_hola():\n",
        "    print('Hola!')\n",
        "\n",
        "di_hola()"
      ],
      "id": "ZXwUDKhK_8nw"
    },
    {
      "cell_type": "markdown",
      "metadata": {
        "id": "uElZRKpO_8nx"
      },
      "source": [
        "### 📝 Ejercicio 4 — Nested functions / Decorador (Esqueleto)\n",
        "Crea un decorador `contar_llamadas` que añada un atributo `count` a la función decorada y lo incremente cada vez que se llame. Devuelve la función decorada con la propiedad disponible: `f.count`.\n",
        "Pista: usa closure y `nonlocal` o atributo en la función wrapper."
      ],
      "id": "uElZRKpO_8nx"
    },
    {
      "cell_type": "code",
      "metadata": {
        "id": "rfp-a34S_8nx"
      },
      "execution_count": null,
      "outputs": [],
      "source": [
        "# Esqueleto\n",
        "def contar_llamadas(func):\n",
        "    # retornar wrapper que incremente contador y llame a func\n",
        "    pass\n",
        "\n",
        "# Prueba sugerida:\n",
        "# @contar_llamadas\n",
        "# def saludo():\n",
        "#     print('hola')\n",
        "# saludo()\n",
        "# saludo()\n",
        "# print(saludo.count)  # debe imprimir 2"
      ],
      "id": "rfp-a34S_8nx"
    },
    {
      "cell_type": "markdown",
      "metadata": {
        "id": "lp-3Ex8v_8nx"
      },
      "source": [
        "## ✅ Buenas prácticas y recomendaciones\n",
        "\n",
        "- **Evita `global`** cuando sea posible; prefiere retornar valores y reasignar externamente.\n",
        "- Usa **closures** para encapsular estado privado cuando sea útil.\n",
        "- Documenta funciones con **docstrings** y agrega **type hints** para mayor claridad.\n",
        "- Para código concurrente o en producción, evita mutable globals y usa clases o estructuras controladas.\n",
        "- Para depurar scope y closures, usa Python Tutor (pythontutor.com) para visualizar la pila y variables.\n"
      ],
      "id": "lp-3Ex8v_8nx"
    },
    {
      "cell_type": "markdown",
      "metadata": {
        "id": "ncRy18di_8ny"
      },
      "source": [
        "## Recursos y lecturas recomendadas\n",
        "- Documentación oficial — funciones: https://docs.python.org/3/tutorial/controlflow.html#defining-functions\n",
        "- Artículo sobre closures y scope: https://realpython.com/inner-functions-what-are-closures/\n",
        "- Python Tutor (visualizador paso a paso): https://pythontutor.com"
      ],
      "id": "ncRy18di_8ny"
    }
  ]
}