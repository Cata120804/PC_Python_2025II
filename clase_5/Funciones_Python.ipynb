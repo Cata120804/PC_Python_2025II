{
  "nbformat": 4,
  "nbformat_minor": 5,
  "metadata": {
    "kernelspec": {
      "name": "python3",
      "display_name": "Python 3"
    },
    "language_info": {
      "name": "python",
      "version": "3.x"
    },
    "colab": {
      "provenance": [],
      "include_colab_link": true
    }
  },
  "cells": [
    {
      "cell_type": "markdown",
      "metadata": {
        "id": "view-in-github",
        "colab_type": "text"
      },
      "source": [
        "<a href=\"https://colab.research.google.com/github/Warspyt/PC_Python_2025II/blob/main/clase_5/Funciones_Python.ipynb\" target=\"_parent\"><img src=\"https://colab.research.google.com/assets/colab-badge.svg\" alt=\"Open In Colab\"/></a>"
      ]
    },
    {
      "cell_type": "markdown",
      "metadata": {
        "id": "O5ZP20uMdRQu"
      },
      "source": [
        "# Curso de Programación de Computadores en Python\n",
        "## Function definition & calling — Parameters and return values\n",
        "#### Universidad Nacional de Colombia\n",
        "\n",
        "---\n",
        "### Objetivos de la sesión\n",
        "- Entender la **definición** y **llamada** de funciones en Python.\n",
        "- Conocer los diferentes tipos de **parámetros** (posicionales, keyword, por defecto, *args, **kwargs**).\n",
        "- Aprender a **devolver valores**, retornar múltiples valores y patrones comunes.\n",
        "- Practicar mediante ejercicios interactivos dentro del notebook.\n",
        "\n",
        "### Contenido\n",
        "1. Definición y llamada de funciones\n",
        "2. Parámetros y tipos (posicionales, keyword, defaults, *args, **kwargs*)\n",
        "3. Valores de retorno (simples, múltiples, `None`)\n",
        "4. Ejercicios y soluciones\n",
        "\n",
        "Ejecuta las celdas con `Shift+Enter`. Intenta resolver los ejercicios antes de ver las soluciones."
      ],
      "id": "O5ZP20uMdRQu"
    },
    {
      "cell_type": "markdown",
      "metadata": {
        "id": "fFrOgUOrdRQw"
      },
      "source": [
        "# 1️⃣ Definición y llamada de funciones\n",
        "\n",
        "* Una función es una secuencia de instrucciones, que tiene un nombre propio y puede ser \"llamada\" para ejecutar dichos cálculos u operaciones.\n",
        "* En principio, una función debe recibir parámetros que pueden ser de diverso tipo y generar/retornar al menos una salida. Dicho proceso puede verse en este diagrama:\n",
        "\n",
        "<img src=\"https://aosmith16.github.io/spring-r-topics/slides/figs/week06_files/function_diagram.png\" width=\"400\"/>"
      ],
      "id": "fFrOgUOrdRQw"
    },
    {
      "cell_type": "markdown",
      "source": [
        "* En Python hay un conjunto de funciones que nos permiten conocer información sobre nuestras variables, para realizar conversiones o para diferentes operaciones matemáticas.\n",
        "* Por ejemplo, la mismas sentencias `print` e `input` son funciones que nos permiten imprimir y leer:"
      ],
      "metadata": {
        "id": "iS2LBaIgioYC"
      },
      "id": "iS2LBaIgioYC"
    },
    {
      "cell_type": "code",
      "source": [
        "# Asignación de variable mediante función input\n",
        "texto = input(\"Ingresa un texto: \")\n",
        "\n",
        "# Impresión mediante función print\n",
        "print(texto)"
      ],
      "metadata": {
        "colab": {
          "base_uri": "https://localhost:8080/"
        },
        "id": "X5abDHIo2ReA",
        "outputId": "0099739d-bb30-4a84-c061-16ebbc5e9386"
      },
      "execution_count": null,
      "outputs": [
        {
          "output_type": "stream",
          "name": "stdout",
          "text": [
            "Ingresa un texto: hola\n",
            "hola\n"
          ]
        }
      ],
      "id": "X5abDHIo2ReA"
    },
    {
      "cell_type": "markdown",
      "source": [
        "* También aquellas con las que se convierte y se conoce el tipo de dato:"
      ],
      "metadata": {
        "id": "4Lpz2U5N-8wN"
      },
      "id": "4Lpz2U5N-8wN"
    },
    {
      "cell_type": "code",
      "source": [
        "# Número entero\n",
        "num = 50\n",
        "\n",
        "# Conversión a flotante\n",
        "num_flotante = float(num)\n",
        "\n",
        "# Mostrar tipos de datos con función type dentro de print\n",
        "print(f\"{num} es {type(num)}\")\n",
        "print(f\"{num_flotante} es {type(num_flotante)}\")"
      ],
      "metadata": {
        "colab": {
          "base_uri": "https://localhost:8080/"
        },
        "id": "w7hP3RXk-85_",
        "outputId": "bdb7d1f3-5e30-4476-d2ec-a82dfdcdd926"
      },
      "execution_count": null,
      "outputs": [
        {
          "output_type": "stream",
          "name": "stdout",
          "text": [
            "50 es <class 'int'>\n",
            "50.0 es <class 'float'>\n"
          ]
        }
      ],
      "id": "w7hP3RXk-85_"
    },
    {
      "cell_type": "markdown",
      "source": [
        "Para ver cuáles funciones podemos usar por defecto en Python, podemos hacerlo como en la celda de código de abajo, aunque se puede [revisar la documentación oficial](https://docs.python.org/3/library/functions.html):"
      ],
      "metadata": {
        "id": "NfV0UhBq_izT"
      },
      "id": "NfV0UhBq_izT"
    },
    {
      "cell_type": "code",
      "source": [
        "# Esto es una librería, se verá en sesiones posteriores\n",
        "import builtins, types\n",
        "\n",
        "# Utilizamos función dir y un bucle\n",
        "print(\"*** Lista de funciones integradas ***\")\n",
        "for nombre, obj in vars(builtins).items():\n",
        "    if isinstance(obj, types.BuiltinFunctionType):\n",
        "        print(f\"- {nombre}\")"
      ],
      "metadata": {
        "colab": {
          "base_uri": "https://localhost:8080/"
        },
        "id": "c9o5Q0ZM_i9B",
        "outputId": "2b9cdc12-53f0-4848-dee0-d64df470c4a5"
      },
      "execution_count": null,
      "outputs": [
        {
          "output_type": "stream",
          "name": "stdout",
          "text": [
            "*** Lista de funciones integradas ***\n",
            "- __build_class__\n",
            "- __import__\n",
            "- abs\n",
            "- all\n",
            "- any\n",
            "- ascii\n",
            "- bin\n",
            "- breakpoint\n",
            "- callable\n",
            "- chr\n",
            "- compile\n",
            "- delattr\n",
            "- dir\n",
            "- divmod\n",
            "- eval\n",
            "- exec\n",
            "- format\n",
            "- getattr\n",
            "- globals\n",
            "- hasattr\n",
            "- hash\n",
            "- hex\n",
            "- id\n",
            "- isinstance\n",
            "- issubclass\n",
            "- iter\n",
            "- aiter\n",
            "- len\n",
            "- locals\n",
            "- max\n",
            "- min\n",
            "- next\n",
            "- anext\n",
            "- oct\n",
            "- ord\n",
            "- pow\n",
            "- print\n",
            "- repr\n",
            "- round\n",
            "- setattr\n",
            "- sorted\n",
            "- sum\n",
            "- vars\n",
            "- open\n"
          ]
        }
      ],
      "id": "c9o5Q0ZM_i9B"
    },
    {
      "cell_type": "markdown",
      "source": [
        "Una función se define con `def nombre(parametros):` y se ejecuta llamándola `nombre(args)`. Las funciones ayudan a organizar y reutilizar código."
      ],
      "metadata": {
        "id": "w1NYfP1dibTv"
      },
      "id": "w1NYfP1dibTv"
    },
    {
      "cell_type": "markdown",
      "source": [
        "* En los paréntesis irán los parámetros y dentro de la función todas las instrucciones, finalizando con `return`.\n",
        "* Pero iniciemos con una función sencilla sin parámetros ni retorno:"
      ],
      "metadata": {
        "id": "08RsW7rYHK7h"
      },
      "id": "08RsW7rYHK7h"
    },
    {
      "cell_type": "code",
      "source": [
        "def hola():\n",
        "    print(\"hola :)\")"
      ],
      "metadata": {
        "id": "vjE1ukAuLaYB"
      },
      "execution_count": null,
      "outputs": [],
      "id": "vjE1ukAuLaYB"
    },
    {
      "cell_type": "markdown",
      "source": [
        "Al ejecutar la celda anterior no da ningún resultado. Eso se debe a que solo estamos definiendo no llamando a la función:"
      ],
      "metadata": {
        "id": "Q8_1aWcwLgYa"
      },
      "id": "Q8_1aWcwLgYa"
    },
    {
      "cell_type": "code",
      "source": [
        "# Definimos la función\n",
        "def hola():\n",
        "    print(\"hola :)\")\n",
        "\n",
        "# Llamamos a la función\n",
        "hola()"
      ],
      "metadata": {
        "colab": {
          "base_uri": "https://localhost:8080/"
        },
        "id": "YBQfl0asLqIO",
        "outputId": "2147dbbd-9201-49c1-806a-9682199502a1"
      },
      "execution_count": null,
      "outputs": [
        {
          "output_type": "stream",
          "name": "stdout",
          "text": [
            "hola :)\n"
          ]
        }
      ],
      "id": "YBQfl0asLqIO"
    },
    {
      "cell_type": "markdown",
      "source": [
        "Pero cuidado, la función siempre debe ir antes del llamado:"
      ],
      "metadata": {
        "id": "i4DrbyVOMDFH"
      },
      "id": "i4DrbyVOMDFH"
    },
    {
      "cell_type": "code",
      "source": [
        "# Error, se debe definir antes de llamarla\n",
        "def hola_2():\n",
        "    print(\"hola :)\")\n",
        "\n",
        "# \"Se llama\" a la función\n",
        "hola_2()"
      ],
      "metadata": {
        "colab": {
          "base_uri": "https://localhost:8080/"
        },
        "id": "gSLnJ2wLMHkH",
        "outputId": "4bc54dcc-077e-4f27-d945-c399267aa946"
      },
      "execution_count": null,
      "outputs": [
        {
          "output_type": "stream",
          "name": "stdout",
          "text": [
            "hola :)\n"
          ]
        }
      ],
      "id": "gSLnJ2wLMHkH"
    },
    {
      "cell_type": "markdown",
      "source": [
        "También podríamos definir el retorno del mensaje y ejecutar fuera de la función:"
      ],
      "metadata": {
        "id": "sJ2a5udoLpoQ"
      },
      "id": "sJ2a5udoLpoQ"
    },
    {
      "cell_type": "code",
      "source": [
        "# Definimos la función\n",
        "def hola():\n",
        "    return \"hola :)\"\n",
        "\n",
        "# Llamamos a la función\n",
        "print(f\"Este es mi mensaje -> {hola()}\")"
      ],
      "metadata": {
        "colab": {
          "base_uri": "https://localhost:8080/"
        },
        "id": "Q7kTFNRbMYge",
        "outputId": "66223a23-5ee8-4397-a2cf-c7306b74e7d9"
      },
      "execution_count": null,
      "outputs": [
        {
          "output_type": "stream",
          "name": "stdout",
          "text": [
            "Este es mi mensaje -> hola :)\n"
          ]
        }
      ],
      "id": "Q7kTFNRbMYge"
    },
    {
      "cell_type": "markdown",
      "source": [
        "Otro aspecto, aunque no una práctica común, es redefinir una función:"
      ],
      "metadata": {
        "id": "JHO10Xy4TKpX"
      },
      "id": "JHO10Xy4TKpX"
    },
    {
      "cell_type": "code",
      "source": [
        "# Definimos la función\n",
        "def hola():\n",
        "    return \"hola :)\"\n",
        "\n",
        "# Llamamos a la función\n",
        "print(f\"Este es mi mensaje -> {hola()}\")\n",
        "\n",
        "\n",
        "# Redefinimos la función\n",
        "def hola():\n",
        "    return 1\n",
        "\n",
        "# Llamamos a la función\n",
        "print(f\"Este es mi nuevo mensaje -> {hola()}\")"
      ],
      "metadata": {
        "colab": {
          "base_uri": "https://localhost:8080/"
        },
        "id": "M3O_AGDKTK-9",
        "outputId": "d264e350-4f59-4675-eb53-3b5dab9219f0"
      },
      "execution_count": null,
      "outputs": [
        {
          "output_type": "stream",
          "name": "stdout",
          "text": [
            "Este es mi mensaje -> hola :)\n",
            "Este es mi nuevo mensaje -> 1\n"
          ]
        }
      ],
      "id": "M3O_AGDKTK-9"
    },
    {
      "cell_type": "markdown",
      "source": [
        "### Parámetros de funciones\n",
        "* Los parámetros son muy importantes, ya que permiten realizar los cálculos de las funciones con diferentes valores.\n",
        "* Por ejemplo, definamos una función que calcule el cuadrado de un número:"
      ],
      "metadata": {
        "id": "SwCZQMMS47jL"
      },
      "id": "SwCZQMMS47jL"
    },
    {
      "cell_type": "code",
      "execution_count": 2,
      "metadata": {
        "id": "dXCm2GOz0pMe"
      },
      "outputs": [],
      "source": [
        "def num_cuadrado(x):\n",
        "    cuadrado = x **2\n",
        "    return cuadrado"
      ],
      "id": "dXCm2GOz0pMe"
    },
    {
      "cell_type": "markdown",
      "source": [
        "Aunque podemos ahorrar una línea de código así:"
      ],
      "metadata": {
        "id": "nVd1oCirIPKr"
      },
      "id": "nVd1oCirIPKr"
    },
    {
      "cell_type": "code",
      "source": [
        "def num_cuadrado(x):\n",
        "    return x**2"
      ],
      "metadata": {
        "id": "nQjxgtRYIPUp"
      },
      "execution_count": null,
      "outputs": [],
      "id": "nQjxgtRYIPUp"
    },
    {
      "cell_type": "markdown",
      "source": [
        "Ahora, realizamos el llamado de la función:"
      ],
      "metadata": {
        "id": "OIgyt9ZeIemg"
      },
      "id": "OIgyt9ZeIemg"
    },
    {
      "cell_type": "code",
      "source": [
        "# Definimos nuestra función\n",
        "def num_cuadrado(x):\n",
        "    return x**2\n",
        "\n",
        "# Llamamos a la función y le pasamos el número 12\n",
        "print(num_cuadrado(12))"
      ],
      "metadata": {
        "colab": {
          "base_uri": "https://localhost:8080/"
        },
        "id": "5HncnW3NIetq",
        "outputId": "58577add-7e9d-482f-d355-93be43d6ce28"
      },
      "execution_count": 4,
      "outputs": [
        {
          "output_type": "stream",
          "name": "stdout",
          "text": [
            "144\n"
          ]
        }
      ],
      "id": "5HncnW3NIetq"
    },
    {
      "cell_type": "markdown",
      "source": [
        "Pero dicho valor retornado, puede ser almacenado, modificado y utilizado para otros propósitos:"
      ],
      "metadata": {
        "id": "sR60_VYrJa-D"
      },
      "id": "sR60_VYrJa-D"
    },
    {
      "cell_type": "code",
      "source": [
        "# Definimos nuestra función\n",
        "def num_cuadrado(x):\n",
        "    return x**2\n",
        "\n",
        "# Almacenamos resultado en variable\n",
        "res = 1 + num_cuadrado(8)\n",
        "\n",
        "# Mostrar resultados\n",
        "print(res)"
      ],
      "metadata": {
        "colab": {
          "base_uri": "https://localhost:8080/"
        },
        "id": "OvRh-wltNGmw",
        "outputId": "f0cd03db-2636-4ba0-ce6f-0728e28df754"
      },
      "execution_count": 5,
      "outputs": [
        {
          "output_type": "stream",
          "name": "stdout",
          "text": [
            "65\n"
          ]
        }
      ],
      "id": "OvRh-wltNGmw"
    },
    {
      "cell_type": "code",
      "metadata": {
        "colab": {
          "base_uri": "https://localhost:8080/"
        },
        "id": "2AKBQSjSdRQx",
        "outputId": "4ab3c705-b29f-4b73-e504-a1534f55ea66"
      },
      "execution_count": 1,
      "outputs": [
        {
          "output_type": "stream",
          "name": "stdout",
          "text": [
            "Hola, Ana! Bienvenido/a a la sesión de funciones.\n",
            "Hola, Carlos! Bienvenido/a a la sesión de funciones.\n"
          ]
        }
      ],
      "source": [
        "# Ejemplo: función simple que no devuelve valor (efecto lateral: print)\n",
        "def saludar(nombre):\n",
        "    \"\"\"Imprime un saludo personalizado.\"\"\"\n",
        "    print(f\"Hola, {nombre}! Bienvenido/a a la sesión de funciones.\")\n",
        "\n",
        "saludar('Ana')\n",
        "saludar('Carlos')"
      ],
      "id": "2AKBQSjSdRQx"
    },
    {
      "cell_type": "markdown",
      "source": [
        "Ahora, para utilizar varios parámetros, se deben separar con comas:"
      ],
      "metadata": {
        "id": "5ncqvhBXN9fw"
      },
      "id": "5ncqvhBXN9fw"
    },
    {
      "cell_type": "code",
      "source": [
        "# Definir función\n",
        "def suma(a,b,c):\n",
        "    return a+b+c\n",
        "\n",
        "# Llamar función\n",
        "suma(1, 2, 3)"
      ],
      "metadata": {
        "colab": {
          "base_uri": "https://localhost:8080/"
        },
        "id": "4sat9yizN9wI",
        "outputId": "6b1ec1b4-42ce-460a-cbb5-83375d67c59c"
      },
      "execution_count": 6,
      "outputs": [
        {
          "output_type": "execute_result",
          "data": {
            "text/plain": [
              "6"
            ]
          },
          "metadata": {},
          "execution_count": 6
        }
      ],
      "id": "4sat9yizN9wI"
    },
    {
      "cell_type": "markdown",
      "metadata": {
        "id": "Xjp2-VOWdRQz"
      },
      "source": [
        "### Ejercicio 1 (Definición y llamada) — *Esqueleto*\n",
        "Crea una función `presentacion(nombre, edad)` que imprima: `Me llamo <nombre> y tengo <edad> años.`\n",
        "Completa la función y llama a `presentacion` con dos ejemplos."
      ],
      "id": "Xjp2-VOWdRQz"
    },
    {
      "cell_type": "code",
      "metadata": {
        "id": "gngtEC0hdRQz"
      },
      "execution_count": null,
      "outputs": [],
      "source": [
        "# Esqueleto: completa la función\n",
        "def presentacion(nombre, edad):\n",
        "    # Escribe aquí la instrucción print solicitada\n",
        "    pass\n",
        "\n",
        "# Prueba tus llamadas aquí (descomenta para usar)\n",
        "# presentacion('Lucía', 22)\n",
        "# presentacion('Mateo', 19)"
      ],
      "id": "gngtEC0hdRQz"
    },
    {
      "cell_type": "markdown",
      "source": [
        "### Con condicionales y bucles\n",
        "Claramente, podemos utilizar cualquier tipo de sentencia o instrucción dentro nuestras funciones, como por ejemplo, condicionales o bucles:"
      ],
      "metadata": {
        "id": "s5jB38BiNx4F"
      },
      "id": "s5jB38BiNx4F"
    },
    {
      "cell_type": "code",
      "execution_count": null,
      "metadata": {
        "colab": {
          "base_uri": "https://localhost:8080/"
        },
        "id": "EPQqGv7m0vPv",
        "outputId": "4ad74c73-2d27-4ef8-b5f8-f525347e490f"
      },
      "outputs": [
        {
          "output_type": "stream",
          "name": "stdout",
          "text": [
            "El valor absoluto de -10 es: 10\n",
            "El valor absoluto de -6 es: 6\n",
            "El valor absoluto de -2 es: 2\n",
            "El valor absoluto de 2 es: 2\n",
            "El valor absoluto de 6 es: 6\n"
          ]
        }
      ],
      "source": [
        "# Definir función con valor absoluto\n",
        "def valor_absoluto(numero):\n",
        "    if numero < 0:\n",
        "        return -numero\n",
        "    else:\n",
        "        return numero\n",
        "\n",
        "# Calcular el valor absoluto de varios números\n",
        "for num in range(-10, 10, 4):\n",
        "    print(f\"El valor absoluto de {num} es: {valor_absoluto(num)}\")"
      ],
      "id": "EPQqGv7m0vPv"
    },
    {
      "cell_type": "markdown",
      "source": [
        "Una versión compacta de la celda anterior con el operador ternario:"
      ],
      "metadata": {
        "id": "o7aV6pJXQJNn"
      },
      "id": "o7aV6pJXQJNn"
    },
    {
      "cell_type": "code",
      "source": [
        "# Definir función con valor absoluto\n",
        "def valor_absoluto(numero):\n",
        "    return -numero if numero < 0 else numero\n",
        "\n",
        "# Calcular el valor absoluto de varios números\n",
        "for num in range(-10, 10, 4):\n",
        "    print(f\"El valor absoluto de {num} es: {valor_absoluto(num)}\")"
      ],
      "metadata": {
        "colab": {
          "base_uri": "https://localhost:8080/"
        },
        "id": "dm6uNnJSQOGP",
        "outputId": "05920e7c-2953-449f-e599-3a1cd0e3a1d6"
      },
      "execution_count": null,
      "outputs": [
        {
          "output_type": "stream",
          "name": "stdout",
          "text": [
            "El valor absoluto de -10 es: 10\n",
            "El valor absoluto de -6 es: 6\n",
            "El valor absoluto de -2 es: 2\n",
            "El valor absoluto de 2 es: 2\n",
            "El valor absoluto de 6 es: 6\n"
          ]
        }
      ],
      "id": "dm6uNnJSQOGP"
    },
    {
      "cell_type": "markdown",
      "source": [
        "Las funciones pueden retornar cualquier tipo de dato, por ejemplo booleano:"
      ],
      "metadata": {
        "id": "Rc8IxEQ6QNtv"
      },
      "id": "Rc8IxEQ6QNtv"
    },
    {
      "cell_type": "code",
      "source": [
        "# Definir función\n",
        "def es_divisible(x, y):\n",
        "    if x%y == 0:\n",
        "        return True\n",
        "    else:\n",
        "        return False\n",
        "\n",
        "# Llamar función\n",
        "a, b = 4, 2\n",
        "print(f\"¿Son divisibles {a} y {b}? -> {es_divisible(a, b)}\")"
      ],
      "metadata": {
        "colab": {
          "base_uri": "https://localhost:8080/"
        },
        "id": "YFsqbJiCQrVi",
        "outputId": "7d1fb6ee-82c7-4898-b741-21cde977c95d"
      },
      "execution_count": null,
      "outputs": [
        {
          "output_type": "stream",
          "name": "stdout",
          "text": [
            "¿Son divisibles 4 y 2? -> True\n"
          ]
        }
      ],
      "id": "YFsqbJiCQrVi"
    },
    {
      "cell_type": "markdown",
      "source": [
        "### Múltiples funciones\n",
        "Tal como podemos crear múltiples variables y realizar varias operaciones, también podemos definir cuantas funciones necesitemos. Veámos un ejemplo sencillo:"
      ],
      "metadata": {
        "id": "D7evTCMmQ0dt"
      },
      "id": "D7evTCMmQ0dt"
    },
    {
      "cell_type": "code",
      "source": [
        "# Definir primera función\n",
        "def funcion_1():\n",
        "    print(\"Esta es la primera función\")\n",
        "\n",
        "# Definir segunda función\n",
        "def funcion_2():\n",
        "    print(\"Esta es la segunda función\")\n",
        "    funcion_1()\n",
        "    print(\"Esta es la segunda función\")\n",
        "\n",
        "# Llamar solo función 2\n",
        "funcion_2()"
      ],
      "metadata": {
        "id": "9dS14zGIQ5U0",
        "colab": {
          "base_uri": "https://localhost:8080/"
        },
        "outputId": "7d2a3b4b-f7ea-43fc-a8fb-1f16ea2a66aa"
      },
      "execution_count": null,
      "outputs": [
        {
          "output_type": "stream",
          "name": "stdout",
          "text": [
            "Esta es la segunda función\n",
            "Esta es la primera función\n",
            "Esta es la segunda función\n"
          ]
        }
      ],
      "id": "9dS14zGIQ5U0"
    },
    {
      "cell_type": "markdown",
      "source": [
        "Pero cuidado, ya que si se utiliza mal, puede generar ciclos infinitos:"
      ],
      "metadata": {
        "id": "Y_Z3jeocU_DO"
      },
      "id": "Y_Z3jeocU_DO"
    },
    {
      "cell_type": "code",
      "source": [
        "# Definir segunda función\n",
        "def funcion_1():\n",
        "    print(\"Esta es la segunda función\")\n",
        "    funcion_2()\n",
        "\n",
        "# Definir primera función\n",
        "def funcion_2():\n",
        "    print(\"Esta es la primera función\")\n",
        "    funcion_1()\n",
        "\n",
        "# Llamar solo función 1\n",
        "funcion_1()"
      ],
      "metadata": {
        "colab": {
          "base_uri": "https://localhost:8080/",
          "height": 1000
        },
        "collapsed": true,
        "id": "h_I8FVZ9VDel",
        "outputId": "e0c15c06-b980-44d8-e6c1-5cf1b6ca6efd"
      },
      "execution_count": null,
      "outputs": [
        {
          "output_type": "stream",
          "name": "stdout",
          "text": [
            "Esta es la segunda función\n",
            "Esta es la primera función\n",
            "Esta es la segunda función\n",
            "Esta es la primera función\n",
            "Esta es la segunda función\n",
            "Esta es la primera función\n",
            "Esta es la segunda función\n",
            "Esta es la primera función\n",
            "Esta es la segunda función\n",
            "Esta es la primera función\n",
            "Esta es la segunda función\n",
            "Esta es la primera función\n",
            "Esta es la segunda función\n",
            "Esta es la primera función\n",
            "Esta es la segunda función\n",
            "Esta es la primera función\n",
            "Esta es la segunda función\n",
            "Esta es la primera función\n",
            "Esta es la segunda función\n",
            "Esta es la primera función\n",
            "Esta es la segunda función\n",
            "Esta es la primera función\n",
            "Esta es la segunda función\n",
            "Esta es la primera función\n",
            "Esta es la segunda función\n",
            "Esta es la primera función\n",
            "Esta es la segunda función\n",
            "Esta es la primera función\n",
            "Esta es la segunda función\n",
            "Esta es la primera función\n",
            "Esta es la segunda función\n",
            "Esta es la primera función\n",
            "Esta es la segunda función\n",
            "Esta es la primera función\n",
            "Esta es la segunda función\n",
            "Esta es la primera función\n",
            "Esta es la segunda función\n",
            "Esta es la primera función\n",
            "Esta es la segunda función\n",
            "Esta es la primera función\n",
            "Esta es la segunda función\n",
            "Esta es la primera función\n",
            "Esta es la segunda función\n",
            "Esta es la primera función\n",
            "Esta es la segunda función\n",
            "Esta es la primera función\n",
            "Esta es la segunda función\n",
            "Esta es la primera función\n",
            "Esta es la segunda función\n",
            "Esta es la primera función\n",
            "Esta es la segunda función\n",
            "Esta es la primera función\n",
            "Esta es la segunda función\n",
            "Esta es la primera función\n",
            "Esta es la segunda función\n",
            "Esta es la primera función\n",
            "Esta es la segunda función\n",
            "Esta es la primera función\n",
            "Esta es la segunda función\n",
            "Esta es la primera función\n",
            "Esta es la segunda función\n",
            "Esta es la primera función\n",
            "Esta es la segunda función\n",
            "Esta es la primera función\n",
            "Esta es la segunda función\n",
            "Esta es la primera función\n",
            "Esta es la segunda función\n",
            "Esta es la primera función\n",
            "Esta es la segunda función\n",
            "Esta es la primera función\n",
            "Esta es la segunda función\n",
            "Esta es la primera función\n",
            "Esta es la segunda función\n",
            "Esta es la primera función\n",
            "Esta es la segunda función\n",
            "Esta es la primera función\n",
            "Esta es la segunda función\n",
            "Esta es la primera función\n",
            "Esta es la segunda función\n",
            "Esta es la primera función\n",
            "Esta es la segunda función\n",
            "Esta es la primera función\n",
            "Esta es la segunda función\n",
            "Esta es la primera función\n",
            "Esta es la segunda función\n",
            "Esta es la primera función\n",
            "Esta es la segunda función\n",
            "Esta es la primera función\n",
            "Esta es la segunda función\n",
            "Esta es la primera función\n",
            "Esta es la segunda función\n",
            "Esta es la primera función\n",
            "Esta es la segunda función\n",
            "Esta es la primera función\n",
            "Esta es la segunda función\n",
            "Esta es la primera función\n",
            "Esta es la segunda función\n",
            "Esta es la primera función\n",
            "Esta es la segunda función\n",
            "Esta es la primera función\n",
            "Esta es la segunda función\n",
            "Esta es la primera función\n",
            "Esta es la segunda función\n",
            "Esta es la primera función\n",
            "Esta es la segunda función\n",
            "Esta es la primera función\n",
            "Esta es la segunda función\n",
            "Esta es la primera función\n",
            "Esta es la segunda función\n",
            "Esta es la primera función\n",
            "Esta es la segunda función\n",
            "Esta es la primera función\n",
            "Esta es la segunda función\n",
            "Esta es la primera función\n",
            "Esta es la segunda función\n",
            "Esta es la primera función\n",
            "Esta es la segunda función\n",
            "Esta es la primera función\n",
            "Esta es la segunda función\n",
            "Esta es la primera función\n",
            "Esta es la segunda función\n",
            "Esta es la primera función\n",
            "Esta es la segunda función\n",
            "Esta es la primera función\n",
            "Esta es la segunda función\n",
            "Esta es la primera función\n",
            "Esta es la segunda función\n",
            "Esta es la primera función\n",
            "Esta es la segunda función\n",
            "Esta es la primera función\n",
            "Esta es la segunda función\n",
            "Esta es la primera función\n",
            "Esta es la segunda función\n",
            "Esta es la primera función\n",
            "Esta es la segunda función\n",
            "Esta es la primera función\n",
            "Esta es la segunda función\n",
            "Esta es la primera función\n",
            "Esta es la segunda función\n",
            "Esta es la primera función\n",
            "Esta es la segunda función\n",
            "Esta es la primera función\n",
            "Esta es la segunda función\n",
            "Esta es la primera función\n",
            "Esta es la segunda función\n",
            "Esta es la primera función\n",
            "Esta es la segunda función\n",
            "Esta es la primera función\n",
            "Esta es la segunda función\n",
            "Esta es la primera función\n",
            "Esta es la segunda función\n",
            "Esta es la primera función\n",
            "Esta es la segunda función\n",
            "Esta es la primera función\n",
            "Esta es la segunda función\n",
            "Esta es la primera función\n",
            "Esta es la segunda función\n",
            "Esta es la primera función\n",
            "Esta es la segunda función\n",
            "Esta es la primera función\n",
            "Esta es la segunda función\n",
            "Esta es la primera función\n",
            "Esta es la segunda función\n",
            "Esta es la primera función\n",
            "Esta es la segunda función\n",
            "Esta es la primera función\n",
            "Esta es la segunda función\n",
            "Esta es la primera función\n",
            "Esta es la segunda función\n",
            "Esta es la primera función\n",
            "Esta es la segunda función\n",
            "Esta es la primera función\n",
            "Esta es la segunda función\n",
            "Esta es la primera función\n",
            "Esta es la segunda función\n",
            "Esta es la primera función\n",
            "Esta es la segunda función\n",
            "Esta es la primera función\n",
            "Esta es la segunda función\n",
            "Esta es la primera función\n",
            "Esta es la segunda función\n",
            "Esta es la primera función\n",
            "Esta es la segunda función\n",
            "Esta es la primera función\n",
            "Esta es la segunda función\n",
            "Esta es la primera función\n",
            "Esta es la segunda función\n",
            "Esta es la primera función\n",
            "Esta es la segunda función\n",
            "Esta es la primera función\n",
            "Esta es la segunda función\n",
            "Esta es la primera función\n",
            "Esta es la segunda función\n",
            "Esta es la primera función\n",
            "Esta es la segunda función\n",
            "Esta es la primera función\n",
            "Esta es la segunda función\n",
            "Esta es la primera función\n",
            "Esta es la segunda función\n",
            "Esta es la primera función\n",
            "Esta es la segunda función\n",
            "Esta es la primera función\n",
            "Esta es la segunda función\n",
            "Esta es la primera función\n",
            "Esta es la segunda función\n",
            "Esta es la primera función\n",
            "Esta es la segunda función\n",
            "Esta es la primera función\n",
            "Esta es la segunda función\n",
            "Esta es la primera función\n",
            "Esta es la segunda función\n",
            "Esta es la primera función\n",
            "Esta es la segunda función\n",
            "Esta es la primera función\n",
            "Esta es la segunda función\n",
            "Esta es la primera función\n",
            "Esta es la segunda función\n",
            "Esta es la primera función\n",
            "Esta es la segunda función\n",
            "Esta es la primera función\n",
            "Esta es la segunda función\n",
            "Esta es la primera función\n",
            "Esta es la segunda función\n",
            "Esta es la primera función\n",
            "Esta es la segunda función\n",
            "Esta es la primera función\n",
            "Esta es la segunda función\n",
            "Esta es la primera función\n",
            "Esta es la segunda función\n",
            "Esta es la primera función\n",
            "Esta es la segunda función\n",
            "Esta es la primera función\n",
            "Esta es la segunda función\n",
            "Esta es la primera función\n",
            "Esta es la segunda función\n",
            "Esta es la primera función\n",
            "Esta es la segunda función\n",
            "Esta es la primera función\n",
            "Esta es la segunda función\n",
            "Esta es la primera función\n",
            "Esta es la segunda función\n",
            "Esta es la primera función\n",
            "Esta es la segunda función\n",
            "Esta es la primera función\n",
            "Esta es la segunda función\n",
            "Esta es la primera función\n",
            "Esta es la segunda función\n",
            "Esta es la primera función\n",
            "Esta es la segunda función\n",
            "Esta es la primera función\n",
            "Esta es la segunda función\n",
            "Esta es la primera función\n",
            "Esta es la segunda función\n",
            "Esta es la primera función\n",
            "Esta es la segunda función\n",
            "Esta es la primera función\n",
            "Esta es la segunda función\n",
            "Esta es la primera función\n",
            "Esta es la segunda función\n",
            "Esta es la primera función\n",
            "Esta es la segunda función\n",
            "Esta es la primera función\n",
            "Esta es la segunda función\n",
            "Esta es la primera función\n",
            "Esta es la segunda función\n",
            "Esta es la primera función\n",
            "Esta es la segunda función\n",
            "Esta es la primera función\n",
            "Esta es la segunda función\n",
            "Esta es la primera función\n",
            "Esta es la segunda función\n",
            "Esta es la primera función\n",
            "Esta es la segunda función\n",
            "Esta es la primera función\n",
            "Esta es la segunda función\n",
            "Esta es la primera función\n",
            "Esta es la segunda función\n",
            "Esta es la primera función\n",
            "Esta es la segunda función\n",
            "Esta es la primera función\n",
            "Esta es la segunda función\n",
            "Esta es la primera función\n",
            "Esta es la segunda función\n",
            "Esta es la primera función\n",
            "Esta es la segunda función\n",
            "Esta es la primera función\n",
            "Esta es la segunda función\n",
            "Esta es la primera función\n",
            "Esta es la segunda función\n",
            "Esta es la primera función\n",
            "Esta es la segunda función\n",
            "Esta es la primera función\n",
            "Esta es la segunda función\n",
            "Esta es la primera función\n",
            "Esta es la segunda función\n",
            "Esta es la primera función\n",
            "Esta es la segunda función\n",
            "Esta es la primera función\n",
            "Esta es la segunda función\n",
            "Esta es la primera función\n",
            "Esta es la segunda función\n",
            "Esta es la primera función\n",
            "Esta es la segunda función\n",
            "Esta es la primera función\n",
            "Esta es la segunda función\n",
            "Esta es la primera función\n",
            "Esta es la segunda función\n",
            "Esta es la primera función\n",
            "Esta es la segunda función\n",
            "Esta es la primera función\n",
            "Esta es la segunda función\n",
            "Esta es la primera función\n",
            "Esta es la segunda función\n",
            "Esta es la primera función\n",
            "Esta es la segunda función\n",
            "Esta es la primera función\n",
            "Esta es la segunda función\n",
            "Esta es la primera función\n",
            "Esta es la segunda función\n",
            "Esta es la primera función\n",
            "Esta es la segunda función\n",
            "Esta es la primera función\n",
            "Esta es la segunda función\n",
            "Esta es la primera función\n",
            "Esta es la segunda función\n",
            "Esta es la primera función\n",
            "Esta es la segunda función\n",
            "Esta es la primera función\n",
            "Esta es la segunda función\n",
            "Esta es la primera función\n",
            "Esta es la segunda función\n",
            "Esta es la primera función\n",
            "Esta es la segunda función\n",
            "Esta es la primera función\n",
            "Esta es la segunda función\n",
            "Esta es la primera función\n",
            "Esta es la segunda función\n",
            "Esta es la primera función\n",
            "Esta es la segunda función\n",
            "Esta es la primera función\n",
            "Esta es la segunda función\n",
            "Esta es la primera función\n",
            "Esta es la segunda función\n",
            "Esta es la primera función\n",
            "Esta es la segunda función\n",
            "Esta es la primera función\n",
            "Esta es la segunda función\n",
            "Esta es la primera función\n",
            "Esta es la segunda función\n",
            "Esta es la primera función\n",
            "Esta es la segunda función\n",
            "Esta es la primera función\n",
            "Esta es la segunda función\n",
            "Esta es la primera función\n",
            "Esta es la segunda función\n",
            "Esta es la primera función\n",
            "Esta es la segunda función\n",
            "Esta es la primera función\n",
            "Esta es la segunda función\n",
            "Esta es la primera función\n",
            "Esta es la segunda función\n",
            "Esta es la primera función\n",
            "Esta es la segunda función\n",
            "Esta es la primera función\n",
            "Esta es la segunda función\n",
            "Esta es la primera función\n",
            "Esta es la segunda función\n",
            "Esta es la primera función\n",
            "Esta es la segunda función\n",
            "Esta es la primera función\n",
            "Esta es la segunda función\n",
            "Esta es la primera función\n",
            "Esta es la segunda función\n",
            "Esta es la primera función\n",
            "Esta es la segunda función\n",
            "Esta es la primera función\n",
            "Esta es la segunda función\n",
            "Esta es la primera función\n",
            "Esta es la segunda función\n",
            "Esta es la primera función\n",
            "Esta es la segunda función\n",
            "Esta es la primera función\n",
            "Esta es la segunda función\n",
            "Esta es la primera función\n",
            "Esta es la segunda función\n",
            "Esta es la primera función\n",
            "Esta es la segunda función\n",
            "Esta es la primera función\n",
            "Esta es la segunda función\n",
            "Esta es la primera función\n",
            "Esta es la segunda función\n",
            "Esta es la primera función\n",
            "Esta es la segunda función\n",
            "Esta es la primera función\n",
            "Esta es la segunda función\n",
            "Esta es la primera función\n",
            "Esta es la segunda función\n",
            "Esta es la primera función\n",
            "Esta es la segunda función\n",
            "Esta es la primera función\n",
            "Esta es la segunda función\n",
            "Esta es la primera función\n",
            "Esta es la segunda función\n",
            "Esta es la primera función\n",
            "Esta es la segunda función\n",
            "Esta es la primera función\n",
            "Esta es la segunda función\n",
            "Esta es la primera función\n",
            "Esta es la segunda función\n",
            "Esta es la primera función\n",
            "Esta es la segunda función\n",
            "Esta es la primera función\n",
            "Esta es la segunda función\n",
            "Esta es la primera función\n",
            "Esta es la segunda función\n",
            "Esta es la primera función\n",
            "Esta es la segunda función\n",
            "Esta es la primera función\n",
            "Esta es la segunda función\n",
            "Esta es la primera función\n",
            "Esta es la segunda función\n",
            "Esta es la primera función\n",
            "Esta es la segunda función\n",
            "Esta es la primera función\n",
            "Esta es la segunda función\n",
            "Esta es la primera función\n",
            "Esta es la segunda función\n",
            "Esta es la primera función\n",
            "Esta es la segunda función\n",
            "Esta es la primera función\n",
            "Esta es la segunda función\n",
            "Esta es la primera función\n",
            "Esta es la segunda función\n",
            "Esta es la primera función\n",
            "Esta es la segunda función\n",
            "Esta es la primera función\n",
            "Esta es la segunda función\n",
            "Esta es la primera función\n",
            "Esta es la segunda función\n",
            "Esta es la primera función\n",
            "Esta es la segunda función\n",
            "Esta es la primera función\n",
            "Esta es la segunda función\n",
            "Esta es la primera función\n",
            "Esta es la segunda función\n",
            "Esta es la primera función\n",
            "Esta es la segunda función\n",
            "Esta es la primera función\n",
            "Esta es la segunda función\n",
            "Esta es la primera función\n",
            "Esta es la segunda función\n",
            "Esta es la primera función\n",
            "Esta es la segunda función\n",
            "Esta es la primera función\n",
            "Esta es la segunda función\n",
            "Esta es la primera función\n",
            "Esta es la segunda función\n",
            "Esta es la primera función\n",
            "Esta es la segunda función\n",
            "Esta es la primera función\n",
            "Esta es la segunda función\n",
            "Esta es la primera función\n",
            "Esta es la segunda función\n",
            "Esta es la primera función\n",
            "Esta es la segunda función\n",
            "Esta es la primera función\n",
            "Esta es la segunda función\n",
            "Esta es la primera función\n",
            "Esta es la segunda función\n",
            "Esta es la primera función\n",
            "Esta es la segunda función\n",
            "Esta es la primera función\n",
            "Esta es la segunda función\n",
            "Esta es la primera función\n",
            "Esta es la segunda función\n",
            "Esta es la primera función\n",
            "Esta es la segunda función\n",
            "Esta es la primera función\n",
            "Esta es la segunda función\n",
            "Esta es la primera función\n",
            "Esta es la segunda función\n",
            "Esta es la primera función\n",
            "Esta es la segunda función\n",
            "Esta es la primera función\n",
            "Esta es la segunda función\n",
            "Esta es la primera función\n",
            "Esta es la segunda función\n",
            "Esta es la primera función\n",
            "Esta es la segunda función\n",
            "Esta es la primera función\n",
            "Esta es la segunda función\n",
            "Esta es la primera función\n",
            "Esta es la segunda función\n",
            "Esta es la primera función\n",
            "Esta es la segunda función\n",
            "Esta es la primera función\n",
            "Esta es la segunda función\n",
            "Esta es la primera función\n",
            "Esta es la segunda función\n",
            "Esta es la primera función\n",
            "Esta es la segunda función\n",
            "Esta es la primera función\n",
            "Esta es la segunda función\n",
            "Esta es la primera función\n",
            "Esta es la segunda función\n",
            "Esta es la primera función\n",
            "Esta es la segunda función\n",
            "Esta es la primera función\n",
            "Esta es la segunda función\n",
            "Esta es la primera función\n",
            "Esta es la segunda función\n",
            "Esta es la primera función\n",
            "Esta es la segunda función\n",
            "Esta es la primera función\n",
            "Esta es la segunda función\n",
            "Esta es la primera función\n",
            "Esta es la segunda función\n",
            "Esta es la primera función\n",
            "Esta es la segunda función\n",
            "Esta es la primera función\n",
            "Esta es la segunda función\n",
            "Esta es la primera función\n",
            "Esta es la segunda función\n",
            "Esta es la primera función\n",
            "Esta es la segunda función\n",
            "Esta es la primera función\n",
            "Esta es la segunda función\n",
            "Esta es la primera función\n",
            "Esta es la segunda función\n",
            "Esta es la primera función\n",
            "Esta es la segunda función\n",
            "Esta es la primera función\n",
            "Esta es la segunda función\n",
            "Esta es la primera función\n",
            "Esta es la segunda función\n",
            "Esta es la primera función\n",
            "Esta es la segunda función\n",
            "Esta es la primera función\n",
            "Esta es la segunda función\n",
            "Esta es la primera función\n",
            "Esta es la segunda función\n",
            "Esta es la primera función\n",
            "Esta es la segunda función\n",
            "Esta es la primera función\n",
            "Esta es la segunda función\n",
            "Esta es la primera función\n",
            "Esta es la segunda función\n",
            "Esta es la primera función\n",
            "Esta es la segunda función\n",
            "Esta es la primera función\n",
            "Esta es la segunda función\n",
            "Esta es la primera función\n",
            "Esta es la segunda función\n",
            "Esta es la primera función\n",
            "Esta es la segunda función\n",
            "Esta es la primera función\n",
            "Esta es la segunda función\n",
            "Esta es la primera función\n",
            "Esta es la segunda función\n",
            "Esta es la primera función\n",
            "Esta es la segunda función\n",
            "Esta es la primera función\n",
            "Esta es la segunda función\n",
            "Esta es la primera función\n",
            "Esta es la segunda función\n",
            "Esta es la primera función\n",
            "Esta es la segunda función\n",
            "Esta es la primera función\n",
            "Esta es la segunda función\n",
            "Esta es la primera función\n",
            "Esta es la segunda función\n",
            "Esta es la primera función\n",
            "Esta es la segunda función\n",
            "Esta es la primera función\n",
            "Esta es la segunda función\n",
            "Esta es la primera función\n",
            "Esta es la segunda función\n",
            "Esta es la primera función\n",
            "Esta es la segunda función\n",
            "Esta es la primera función\n",
            "Esta es la segunda función\n",
            "Esta es la primera función\n",
            "Esta es la segunda función\n",
            "Esta es la primera función\n",
            "Esta es la segunda función\n",
            "Esta es la primera función\n",
            "Esta es la segunda función\n",
            "Esta es la primera función\n",
            "Esta es la segunda función\n",
            "Esta es la primera función\n",
            "Esta es la segunda función\n",
            "Esta es la primera función\n",
            "Esta es la segunda función\n",
            "Esta es la primera función\n",
            "Esta es la segunda función\n",
            "Esta es la primera función\n",
            "Esta es la segunda función\n",
            "Esta es la primera función\n",
            "Esta es la segunda función\n",
            "Esta es la primera función\n",
            "Esta es la segunda función\n",
            "Esta es la primera función\n",
            "Esta es la segunda función\n",
            "Esta es la primera función\n",
            "Esta es la segunda función\n",
            "Esta es la primera función\n",
            "Esta es la segunda función\n",
            "Esta es la primera función\n",
            "Esta es la segunda función\n",
            "Esta es la primera función\n",
            "Esta es la segunda función\n",
            "Esta es la primera función\n",
            "Esta es la segunda función\n",
            "Esta es la primera función\n",
            "Esta es la segunda función\n",
            "Esta es la primera función\n",
            "Esta es la segunda función\n",
            "Esta es la primera función\n",
            "Esta es la segunda función\n",
            "Esta es la primera función\n",
            "Esta es la segunda función\n",
            "Esta es la primera función\n",
            "Esta es la segunda función\n",
            "Esta es la primera función\n",
            "Esta es la segunda función\n",
            "Esta es la primera función\n",
            "Esta es la segunda función\n",
            "Esta es la primera función\n",
            "Esta es la segunda función\n",
            "Esta es la primera función\n",
            "Esta es la segunda función\n",
            "Esta es la primera función\n",
            "Esta es la segunda función\n",
            "Esta es la primera función\n",
            "Esta es la segunda función\n",
            "Esta es la primera función\n",
            "Esta es la segunda función\n",
            "Esta es la primera función\n",
            "Esta es la segunda función\n",
            "Esta es la primera función\n",
            "Esta es la segunda función\n",
            "Esta es la primera función\n",
            "Esta es la segunda función\n",
            "Esta es la primera función\n",
            "Esta es la segunda función\n",
            "Esta es la primera función\n",
            "Esta es la segunda función\n",
            "Esta es la primera función\n",
            "Esta es la segunda función\n",
            "Esta es la primera función\n",
            "Esta es la segunda función\n",
            "Esta es la primera función\n",
            "Esta es la segunda función\n",
            "Esta es la primera función\n",
            "Esta es la segunda función\n",
            "Esta es la primera función\n",
            "Esta es la segunda función\n",
            "Esta es la primera función\n",
            "Esta es la segunda función\n",
            "Esta es la primera función\n",
            "Esta es la segunda función\n",
            "Esta es la primera función\n",
            "Esta es la segunda función\n",
            "Esta es la primera función\n",
            "Esta es la segunda función\n",
            "Esta es la primera función\n",
            "Esta es la segunda función\n",
            "Esta es la primera función\n",
            "Esta es la segunda función\n",
            "Esta es la primera función\n",
            "Esta es la segunda función\n",
            "Esta es la primera función\n",
            "Esta es la segunda función\n",
            "Esta es la primera función\n",
            "Esta es la segunda función\n",
            "Esta es la primera función\n",
            "Esta es la segunda función\n",
            "Esta es la primera función\n",
            "Esta es la segunda función\n",
            "Esta es la primera función\n",
            "Esta es la segunda función\n",
            "Esta es la primera función\n",
            "Esta es la segunda función\n",
            "Esta es la primera función\n",
            "Esta es la segunda función\n",
            "Esta es la primera función\n",
            "Esta es la segunda función\n",
            "Esta es la primera función\n",
            "Esta es la segunda función\n",
            "Esta es la primera función\n",
            "Esta es la segunda función\n",
            "Esta es la primera función\n",
            "Esta es la segunda función\n",
            "Esta es la primera función\n",
            "Esta es la segunda función\n",
            "Esta es la primera función\n",
            "Esta es la segunda función\n",
            "Esta es la primera función\n",
            "Esta es la segunda función\n",
            "Esta es la primera función\n",
            "Esta es la segunda función\n",
            "Esta es la primera función\n",
            "Esta es la segunda función\n",
            "Esta es la primera función\n",
            "Esta es la segunda función\n",
            "Esta es la primera función\n",
            "Esta es la segunda función\n",
            "Esta es la primera función\n",
            "Esta es la segunda función\n",
            "Esta es la primera función\n",
            "Esta es la segunda función\n",
            "Esta es la primera función\n",
            "Esta es la segunda función\n",
            "Esta es la primera función\n",
            "Esta es la segunda función\n",
            "Esta es la primera función\n",
            "Esta es la segunda función\n",
            "Esta es la primera función\n",
            "Esta es la segunda función\n",
            "Esta es la primera función\n",
            "Esta es la segunda función\n",
            "Esta es la primera función\n",
            "Esta es la segunda función\n",
            "Esta es la primera función\n",
            "Esta es la segunda función\n",
            "Esta es la primera función\n",
            "Esta es la segunda función\n",
            "Esta es la primera función\n",
            "Esta es la segunda función\n",
            "Esta es la primera función\n",
            "Esta es la segunda función\n",
            "Esta es la primera función\n",
            "Esta es la segunda función\n",
            "Esta es la primera función\n",
            "Esta es la segunda función\n",
            "Esta es la primera función\n",
            "Esta es la segunda función\n",
            "Esta es la primera función\n",
            "Esta es la segunda función\n",
            "Esta es la primera función\n",
            "Esta es la segunda función\n",
            "Esta es la primera función\n",
            "Esta es la segunda función\n",
            "Esta es la primera función\n",
            "Esta es la segunda función\n",
            "Esta es la primera función\n",
            "Esta es la segunda función\n",
            "Esta es la primera función\n",
            "Esta es la segunda función\n",
            "Esta es la primera función\n",
            "Esta es la segunda función\n",
            "Esta es la primera función\n",
            "Esta es la segunda función\n",
            "Esta es la primera función\n",
            "Esta es la segunda función\n",
            "Esta es la primera función\n",
            "Esta es la segunda función\n",
            "Esta es la primera función\n",
            "Esta es la segunda función\n",
            "Esta es la primera función\n",
            "Esta es la segunda función\n",
            "Esta es la primera función\n",
            "Esta es la segunda función\n",
            "Esta es la primera función\n",
            "Esta es la segunda función\n",
            "Esta es la primera función\n",
            "Esta es la segunda función\n",
            "Esta es la primera función\n",
            "Esta es la segunda función\n",
            "Esta es la primera función\n",
            "Esta es la segunda función\n",
            "Esta es la primera función\n",
            "Esta es la segunda función\n",
            "Esta es la primera función\n",
            "Esta es la segunda función\n",
            "Esta es la primera función\n",
            "Esta es la segunda función\n",
            "Esta es la primera función\n",
            "Esta es la segunda función\n",
            "Esta es la primera función\n",
            "Esta es la segunda función\n",
            "Esta es la primera función\n",
            "Esta es la segunda función\n",
            "Esta es la primera función\n",
            "Esta es la segunda función\n",
            "Esta es la primera función\n",
            "Esta es la segunda función\n",
            "Esta es la primera función\n",
            "Esta es la segunda función\n",
            "Esta es la primera función\n",
            "Esta es la segunda función\n",
            "Esta es la primera función\n",
            "Esta es la segunda función\n",
            "Esta es la primera función\n",
            "Esta es la segunda función\n",
            "Esta es la primera función\n",
            "Esta es la segunda función\n",
            "Esta es la primera función\n",
            "Esta es la segunda función\n",
            "Esta es la primera función\n",
            "Esta es la segunda función\n",
            "Esta es la primera función\n",
            "Esta es la segunda función\n",
            "Esta es la primera función\n",
            "Esta es la segunda función\n",
            "Esta es la primera función\n",
            "Esta es la segunda función\n",
            "Esta es la primera función\n",
            "Esta es la segunda función\n",
            "Esta es la primera función\n",
            "Esta es la segunda función\n",
            "Esta es la primera función\n",
            "Esta es la segunda función\n",
            "Esta es la primera función\n",
            "Esta es la segunda función\n",
            "Esta es la primera función\n",
            "Esta es la segunda función\n",
            "Esta es la primera función\n",
            "Esta es la segunda función\n",
            "Esta es la primera función\n",
            "Esta es la segunda función\n",
            "Esta es la primera función\n",
            "Esta es la segunda función\n",
            "Esta es la primera función\n",
            "Esta es la segunda función\n",
            "Esta es la primera función\n",
            "Esta es la segunda función\n",
            "Esta es la primera función\n",
            "Esta es la segunda función\n",
            "Esta es la primera función\n",
            "Esta es la segunda función\n",
            "Esta es la primera función\n",
            "Esta es la segunda función\n",
            "Esta es la primera función\n",
            "Esta es la segunda función\n",
            "Esta es la primera función\n",
            "Esta es la segunda función\n",
            "Esta es la primera función\n",
            "Esta es la segunda función\n",
            "Esta es la primera función\n",
            "Esta es la segunda función\n",
            "Esta es la primera función\n",
            "Esta es la segunda función\n",
            "Esta es la primera función\n",
            "Esta es la segunda función\n",
            "Esta es la primera función\n",
            "Esta es la segunda función\n",
            "Esta es la primera función\n",
            "Esta es la segunda función\n",
            "Esta es la primera función\n",
            "Esta es la segunda función\n",
            "Esta es la primera función\n",
            "Esta es la segunda función\n",
            "Esta es la primera función\n",
            "Esta es la segunda función\n",
            "Esta es la primera función\n",
            "Esta es la segunda función\n",
            "Esta es la primera función\n",
            "Esta es la segunda función\n",
            "Esta es la primera función\n",
            "Esta es la segunda función\n",
            "Esta es la primera función\n",
            "Esta es la segunda función\n",
            "Esta es la primera función\n",
            "Esta es la segunda función\n",
            "Esta es la primera función\n",
            "Esta es la segunda función\n",
            "Esta es la primera función\n",
            "Esta es la segunda función\n",
            "Esta es la primera función\n",
            "Esta es la segunda función\n",
            "Esta es la primera función\n",
            "Esta es la segunda función\n",
            "Esta es la primera función\n",
            "Esta es la segunda función\n",
            "Esta es la primera función\n",
            "Esta es la segunda función\n",
            "Esta es la primera función\n",
            "Esta es la segunda función\n",
            "Esta es la primera función\n",
            "Esta es la segunda función\n",
            "Esta es la primera función\n",
            "Esta es la segunda función\n",
            "Esta es la primera función\n",
            "Esta es la segunda función\n",
            "Esta es la primera función\n",
            "Esta es la segunda función\n",
            "Esta es la primera función\n",
            "Esta es la segunda función\n",
            "Esta es la primera función\n",
            "Esta es la segunda función\n",
            "Esta es la primera función\n",
            "Esta es la segunda función\n",
            "Esta es la primera función\n",
            "Esta es la segunda función\n",
            "Esta es la primera función\n",
            "Esta es la segunda función\n",
            "Esta es la primera función\n",
            "Esta es la segunda función\n",
            "Esta es la primera función\n",
            "Esta es la segunda función\n",
            "Esta es la primera función\n",
            "Esta es la segunda función\n",
            "Esta es la primera función\n",
            "Esta es la segunda función\n",
            "Esta es la primera función\n",
            "Esta es la segunda función\n",
            "Esta es la primera función\n",
            "Esta es la segunda función\n",
            "Esta es la primera función\n",
            "Esta es la segunda función\n",
            "Esta es la primera función\n",
            "Esta es la segunda función\n",
            "Esta es la primera función\n",
            "Esta es la segunda función\n",
            "Esta es la primera función\n",
            "Esta es la segunda función\n",
            "Esta es la primera función\n",
            "Esta es la segunda función\n",
            "Esta es la primera función\n",
            "Esta es la segunda función\n",
            "Esta es la primera función\n",
            "Esta es la segunda función\n",
            "Esta es la primera función\n",
            "Esta es la segunda función\n",
            "Esta es la primera función\n",
            "Esta es la segunda función\n",
            "Esta es la primera función\n",
            "Esta es la segunda función\n",
            "Esta es la primera función\n",
            "Esta es la segunda función\n",
            "Esta es la primera función\n",
            "Esta es la segunda función\n",
            "Esta es la primera función\n",
            "Esta es la segunda función\n",
            "Esta es la primera función\n",
            "Esta es la segunda función\n",
            "Esta es la primera función\n",
            "Esta es la segunda función\n",
            "Esta es la primera función\n",
            "Esta es la segunda función\n",
            "Esta es la primera función\n",
            "Esta es la segunda función\n",
            "Esta es la primera función\n",
            "Esta es la segunda función\n",
            "Esta es la primera función\n",
            "Esta es la segunda función\n",
            "Esta es la primera función\n",
            "Esta es la segunda función\n",
            "Esta es la primera función\n",
            "Esta es la segunda función\n",
            "Esta es la primera función\n",
            "Esta es la segunda función\n",
            "Esta es la primera función\n",
            "Esta es la segunda función\n",
            "Esta es la primera función\n",
            "Esta es la segunda función\n",
            "Esta es la primera función\n",
            "Esta es la segunda función\n",
            "Esta es la primera función\n",
            "Esta es la segunda función\n",
            "Esta es la primera función\n",
            "Esta es la segunda función\n",
            "Esta es la primera función\n",
            "Esta es la segunda función\n",
            "Esta es la primera función\n",
            "Esta es la segunda función\n",
            "Esta es la primera función\n",
            "Esta es la segunda función\n",
            "Esta es la primera función\n",
            "Esta es la segunda función\n"
          ]
        },
        {
          "output_type": "error",
          "ename": "RecursionError",
          "evalue": "maximum recursion depth exceeded while calling a Python object",
          "traceback": [
            "\u001b[0;31m---------------------------------------------------------------------------\u001b[0m",
            "\u001b[0;31mRecursionError\u001b[0m                            Traceback (most recent call last)",
            "\u001b[0;32m<ipython-input-18-bd07e0cd5f0c>\u001b[0m in \u001b[0;36m<cell line: 0>\u001b[0;34m()\u001b[0m\n\u001b[1;32m     10\u001b[0m \u001b[0;34m\u001b[0m\u001b[0m\n\u001b[1;32m     11\u001b[0m \u001b[0;31m# Llamar solo función 1\u001b[0m\u001b[0;34m\u001b[0m\u001b[0;34m\u001b[0m\u001b[0m\n\u001b[0;32m---> 12\u001b[0;31m \u001b[0mfuncion_1\u001b[0m\u001b[0;34m(\u001b[0m\u001b[0;34m)\u001b[0m\u001b[0;34m\u001b[0m\u001b[0;34m\u001b[0m\u001b[0m\n\u001b[0m",
            "\u001b[0;32m<ipython-input-18-bd07e0cd5f0c>\u001b[0m in \u001b[0;36mfuncion_1\u001b[0;34m()\u001b[0m\n\u001b[1;32m      2\u001b[0m \u001b[0;32mdef\u001b[0m \u001b[0mfuncion_1\u001b[0m\u001b[0;34m(\u001b[0m\u001b[0;34m)\u001b[0m\u001b[0;34m:\u001b[0m\u001b[0;34m\u001b[0m\u001b[0;34m\u001b[0m\u001b[0m\n\u001b[1;32m      3\u001b[0m     \u001b[0mprint\u001b[0m\u001b[0;34m(\u001b[0m\u001b[0;34m\"Esta es la segunda función\"\u001b[0m\u001b[0;34m)\u001b[0m\u001b[0;34m\u001b[0m\u001b[0;34m\u001b[0m\u001b[0m\n\u001b[0;32m----> 4\u001b[0;31m     \u001b[0mfuncion_2\u001b[0m\u001b[0;34m(\u001b[0m\u001b[0;34m)\u001b[0m\u001b[0;34m\u001b[0m\u001b[0;34m\u001b[0m\u001b[0m\n\u001b[0m\u001b[1;32m      5\u001b[0m \u001b[0;34m\u001b[0m\u001b[0m\n\u001b[1;32m      6\u001b[0m \u001b[0;31m# Definir primera función\u001b[0m\u001b[0;34m\u001b[0m\u001b[0;34m\u001b[0m\u001b[0m\n",
            "\u001b[0;32m<ipython-input-18-bd07e0cd5f0c>\u001b[0m in \u001b[0;36mfuncion_2\u001b[0;34m()\u001b[0m\n\u001b[1;32m      7\u001b[0m \u001b[0;32mdef\u001b[0m \u001b[0mfuncion_2\u001b[0m\u001b[0;34m(\u001b[0m\u001b[0;34m)\u001b[0m\u001b[0;34m:\u001b[0m\u001b[0;34m\u001b[0m\u001b[0;34m\u001b[0m\u001b[0m\n\u001b[1;32m      8\u001b[0m     \u001b[0mprint\u001b[0m\u001b[0;34m(\u001b[0m\u001b[0;34m\"Esta es la primera función\"\u001b[0m\u001b[0;34m)\u001b[0m\u001b[0;34m\u001b[0m\u001b[0;34m\u001b[0m\u001b[0m\n\u001b[0;32m----> 9\u001b[0;31m     \u001b[0mfuncion_1\u001b[0m\u001b[0;34m(\u001b[0m\u001b[0;34m)\u001b[0m\u001b[0;34m\u001b[0m\u001b[0;34m\u001b[0m\u001b[0m\n\u001b[0m\u001b[1;32m     10\u001b[0m \u001b[0;34m\u001b[0m\u001b[0m\n\u001b[1;32m     11\u001b[0m \u001b[0;31m# Llamar solo función 1\u001b[0m\u001b[0;34m\u001b[0m\u001b[0;34m\u001b[0m\u001b[0m\n",
            "... last 2 frames repeated, from the frame below ...\n",
            "\u001b[0;32m<ipython-input-18-bd07e0cd5f0c>\u001b[0m in \u001b[0;36mfuncion_1\u001b[0;34m()\u001b[0m\n\u001b[1;32m      2\u001b[0m \u001b[0;32mdef\u001b[0m \u001b[0mfuncion_1\u001b[0m\u001b[0;34m(\u001b[0m\u001b[0;34m)\u001b[0m\u001b[0;34m:\u001b[0m\u001b[0;34m\u001b[0m\u001b[0;34m\u001b[0m\u001b[0m\n\u001b[1;32m      3\u001b[0m     \u001b[0mprint\u001b[0m\u001b[0;34m(\u001b[0m\u001b[0;34m\"Esta es la segunda función\"\u001b[0m\u001b[0;34m)\u001b[0m\u001b[0;34m\u001b[0m\u001b[0;34m\u001b[0m\u001b[0m\n\u001b[0;32m----> 4\u001b[0;31m     \u001b[0mfuncion_2\u001b[0m\u001b[0;34m(\u001b[0m\u001b[0;34m)\u001b[0m\u001b[0;34m\u001b[0m\u001b[0;34m\u001b[0m\u001b[0m\n\u001b[0m\u001b[1;32m      5\u001b[0m \u001b[0;34m\u001b[0m\u001b[0m\n\u001b[1;32m      6\u001b[0m \u001b[0;31m# Definir primera función\u001b[0m\u001b[0;34m\u001b[0m\u001b[0;34m\u001b[0m\u001b[0m\n",
            "\u001b[0;31mRecursionError\u001b[0m: maximum recursion depth exceeded while calling a Python object"
          ]
        }
      ],
      "id": "h_I8FVZ9VDel"
    },
    {
      "cell_type": "markdown",
      "metadata": {
        "id": "cE0Fhj_XdRQ0"
      },
      "source": [
        "# 2️⃣ Parámetros: posicionales, keywords y valores por defecto\n",
        "\n",
        "- **Posicionales:** se asignan por orden.\n",
        "- **Keyword (nombrados):** se pasa `param=valor` y el orden no importa.\n",
        "- **Valores por defecto:** permiten llamadas sin especificar el argumento.\n",
        "\n",
        "Veamos ejemplos y casos de uso."
      ],
      "id": "cE0Fhj_XdRQ0"
    },
    {
      "cell_type": "code",
      "metadata": {
        "id": "yG_mEedVdRQ0"
      },
      "execution_count": null,
      "outputs": [],
      "source": [
        "def mostrar_coordenada(x, y=0):\n",
        "    print(f\"Coordenada: ({x}, {y})\")\n",
        "\n",
        "mostrar_coordenada(5)            # x=5, y toma el default\n",
        "mostrar_coordenada(3, 4)         # posicionales\n",
        "mostrar_coordenada(y=10, x=2)    # keywords (orden no importa)"
      ],
      "id": "yG_mEedVdRQ0"
    },
    {
      "cell_type": "markdown",
      "metadata": {
        "id": "2k7IKihAdRQ1"
      },
      "source": [
        "### Ejercicio 2 (Defaults y keywords) — *Esqueleto*\n",
        "Define `crear_salida(nombre, cargo='Estudiante')` que imprima: `Nombre: <nombre> - Cargo: <cargo>`.\n",
        "Prueba llamando con y sin el argumento `cargo` y usando keyword."
      ],
      "id": "2k7IKihAdRQ1"
    },
    {
      "cell_type": "code",
      "metadata": {
        "id": "EYgegMCNdRQ1"
      },
      "execution_count": null,
      "outputs": [],
      "source": [
        "# Esqueleto\n",
        "def crear_salida(nombre, cargo='Estudiante'):\n",
        "    # completar\n",
        "    pass\n",
        "\n",
        "# Pruebas sugeridas (descomenta):\n",
        "# crear_salida('Ana')\n",
        "# crear_salida('Luis', cargo='Asistente')\n",
        "# crear_salida(cargo='Profesor', nombre='María')"
      ],
      "id": "EYgegMCNdRQ1"
    },
    {
      "cell_type": "code",
      "metadata": {
        "id": "3GOXSGDcdRQ1"
      },
      "execution_count": null,
      "outputs": [],
      "source": [
        "# Solución de referencia\n",
        "def crear_salida(nombre, cargo='Estudiante'):\n",
        "    print(f\"Nombre: {nombre} - Cargo: {cargo}\")\n",
        "\n",
        "crear_salida('Ana')\n",
        "crear_salida('Luis', cargo='Asistente')\n",
        "crear_salida(cargo='Profesor', nombre='María')"
      ],
      "id": "3GOXSGDcdRQ1"
    },
    {
      "cell_type": "markdown",
      "metadata": {
        "id": "xnoZnHm3dRQ2"
      },
      "source": [
        "### ⚠️ Nota importante: argumentos obligatorios y error común\n",
        "Si llamas a una función sin suministrar un argumento obligatorio, obtendrás `TypeError`. Siempre revisa la firma."
      ],
      "id": "xnoZnHm3dRQ2"
    },
    {
      "cell_type": "markdown",
      "metadata": {
        "id": "c1OwIYRvdRQ2"
      },
      "source": [
        "# 3️⃣ *args y **kwargs (argumentos variables)\n",
        "\n",
        "- `*args` recibe adicionalmente una tupla de argumentos posicionales.\n",
        "- `**kwargs` recibe un diccionario con argumentos nombrados extra.\n",
        "\n",
        "Útil para funciones que aceptan parámetros flexibles."
      ],
      "id": "c1OwIYRvdRQ2"
    },
    {
      "cell_type": "code",
      "metadata": {
        "id": "D7R9F8R9dRQ2"
      },
      "execution_count": null,
      "outputs": [],
      "source": [
        "def resumen(*args, **kwargs):\n",
        "    print('Valores posicionales:', args)\n",
        "    print('Valores nombrados:', kwargs)\n",
        "\n",
        "resumen(1, 2, 3, nombre='Ana', edad=30)"
      ],
      "id": "D7R9F8R9dRQ2"
    },
    {
      "cell_type": "markdown",
      "metadata": {
        "id": "50lK0VmpdRQ2"
      },
      "source": [
        "### Ejercicio 3 (*args / **kwargs) — *Esqueleto*\n",
        "Implementa `unir_texto(sep=' ', *parts, **extras)` que imprima la unión de `parts` usando `sep`, y luego imprima `extras` si hay.\n",
        "Ejemplo: `unir_texto('-', 'a','b','c', nota='ok')` → `a-b-c` y luego `{'nota':'ok'}`."
      ],
      "id": "50lK0VmpdRQ2"
    },
    {
      "cell_type": "code",
      "metadata": {
        "id": "PNZ0E3r7dRQ2"
      },
      "execution_count": null,
      "outputs": [],
      "source": [
        "# Esqueleto\n",
        "def unir_texto(sep=' ', *parts, **extras):\n",
        "    # Completar: unir parts usando sep y mostrar extras (si no vacíos)\n",
        "    pass\n",
        "\n",
        "# Prueba sugerida (descomenta):\n",
        "# unir_texto('-', 'a', 'b', 'c', nota='ok')"
      ],
      "id": "PNZ0E3r7dRQ2"
    },
    {
      "cell_type": "code",
      "metadata": {
        "id": "WH_CzDWtdRQ2"
      },
      "execution_count": null,
      "outputs": [],
      "source": [
        "# Solución de referencia\n",
        "def unir_texto(sep=' ', *parts, **extras):\n",
        "    if parts:\n",
        "        print(sep.join(parts))\n",
        "    else:\n",
        "        print('')\n",
        "    if extras:\n",
        "        print(extras)\n",
        "\n",
        "unir_texto('-', 'a', 'b', 'c', nota='ok')"
      ],
      "id": "WH_CzDWtdRQ2"
    },
    {
      "cell_type": "markdown",
      "metadata": {
        "id": "dB7mGc1GdRQ3"
      },
      "source": [
        "# 4️⃣ Valores de retorno\n",
        "\n",
        "Usa `return` para devolver valores. Si no hay `return`, la función devuelve `None`.\n",
        "Puedes retornar múltiples valores (tupla) y desempacarlos al recibirlos."
      ],
      "id": "dB7mGc1GdRQ3"
    },
    {
      "cell_type": "code",
      "metadata": {
        "id": "vDzg1-kDdRQ3"
      },
      "execution_count": null,
      "outputs": [],
      "source": [
        "def divmod_custom(a, b):\n",
        "    cociente = a // b\n",
        "    resto = a % b\n",
        "    return cociente, resto\n",
        "\n",
        "q, r = divmod_custom(17, 5)\n",
        "print('Cociente =', q, ', Resto =', r)"
      ],
      "id": "vDzg1-kDdRQ3"
    },
    {
      "cell_type": "markdown",
      "metadata": {
        "id": "CtrVcrAbdRQ3"
      },
      "source": [
        "### Ejercicio 4 (Retornos múltiples) — *Esqueleto*\n",
        "Implementa `estadisticas(a, b, c)` que devuelva `(suma, promedio, producto)` de tres números.\n"
      ],
      "id": "CtrVcrAbdRQ3"
    },
    {
      "cell_type": "code",
      "metadata": {
        "id": "NNaY_pkxdRQ3"
      },
      "execution_count": null,
      "outputs": [],
      "source": [
        "# Esqueleto\n",
        "def estadisticas(a, b, c):\n",
        "    # calcular suma, promedio y producto y retornarlos\n",
        "    pass\n",
        "\n",
        "# Prueba sugerida:\n",
        "# s, p, prod = estadisticas(2, 3, 4)\n",
        "# print(s, p, prod)"
      ],
      "id": "NNaY_pkxdRQ3"
    },
    {
      "cell_type": "code",
      "metadata": {
        "id": "r8_-wU3udRQ3"
      },
      "execution_count": null,
      "outputs": [],
      "source": [
        "# Solución de referencia\n",
        "def estadisticas(a, b, c):\n",
        "    suma = a + b + c\n",
        "    promedio = suma / 3\n",
        "    producto = a * b * c\n",
        "    return suma, promedio, producto\n",
        "\n",
        "s, p, prod = estadisticas(2, 3, 4)\n",
        "print(s, p, prod)"
      ],
      "id": "r8_-wU3udRQ3"
    },
    {
      "cell_type": "markdown",
      "metadata": {
        "id": "eVUz-bvadRQ4"
      },
      "source": [
        "# 5️⃣ Buenas prácticas, tips y curiosidades\n",
        "\n",
        "- Usa **docstrings** para documentar funciones.\n",
        "- Mantén funciones **cortas** y con **una sola responsabilidad**.\n",
        "- Evita valores por defecto mutables.\n",
        "- Usa **type hints** para mejorar legibilidad: `def f(x: int) -> float:`.\n",
        "- **Curiosidad:** En Python las funciones son objetos; puedes almacenarlas y pasarlas como parámetros.\n"
      ],
      "id": "eVUz-bvadRQ4"
    },
    {
      "cell_type": "markdown",
      "source": [
        "### Docstring\n",
        "* Un *docstring* es una cadena de texto que se utiliza para documentar funciones, pero también clases (ya eso es programación orientada a objetos).\n",
        "* Podemos definirlas de la siguiente manera para el caso de una función que calcula la distancia entre dos puntos:"
      ],
      "metadata": {
        "id": "41YanAyEcGwW"
      },
      "id": "41YanAyEcGwW"
    },
    {
      "cell_type": "code",
      "execution_count": null,
      "metadata": {
        "id": "CRGuCnWT1oST",
        "colab": {
          "base_uri": "https://localhost:8080/"
        },
        "outputId": "ec7cdde9-ad83-4bdb-f33d-be5f86425122"
      },
      "outputs": [
        {
          "output_type": "execute_result",
          "data": {
            "text/plain": [
              "5.0"
            ]
          },
          "metadata": {},
          "execution_count": 35
        }
      ],
      "source": [
        "# Importamos librería\n",
        "from math import sqrt\n",
        "\n",
        "# Definimos función con doctring\n",
        "def distancia(x1, y1, x2, y2):\n",
        "    # Aquí va el docstring\n",
        "    \"\"\"\n",
        "    Calcula la distancia entre dos puntos en el espacio 2D.\n",
        "\n",
        "    Parámetros:\n",
        "        x1 (float): Coordenada x del primer punto en el espacio.\n",
        "        y1 (float): Coordenada y del primer punto en el espacio.\n",
        "        x2 (float): Coordenada x del segundo punto en el espacio.\n",
        "        y2 (float): Coordenada y del segundo punto en el espacio.\n",
        "\n",
        "    Retorna:\n",
        "        resultado (float): Distancia entre los dos puntos.\n",
        "    \"\"\"\n",
        "\n",
        "    # Cálculo diferencias\n",
        "    dif_x = x2 - x1\n",
        "    dif_y = y2 - y1\n",
        "\n",
        "    # Suma de diferencias al cuadrado\n",
        "    suma_dif_cuadr = dif_x**2 + dif_y**2\n",
        "\n",
        "    # Cálcula resultado y retorna\n",
        "    resultado = sqrt(suma_dif_cuadr)\n",
        "    return resultado\n",
        "\n",
        "# Llama función\n",
        "distancia(x1=1, y1=2, x2=4, y2=6)"
      ],
      "id": "CRGuCnWT1oST"
    },
    {
      "cell_type": "markdown",
      "source": [
        "Aparentemente el *docstring* no genera ningún efecto, sin embargo, la importancia se ve cuando queremos obtener información de la función:"
      ],
      "metadata": {
        "id": "2DaXcREQgudb"
      },
      "id": "2DaXcREQgudb"
    },
    {
      "cell_type": "code",
      "source": [
        "help(distancia)"
      ],
      "metadata": {
        "colab": {
          "base_uri": "https://localhost:8080/"
        },
        "id": "BMuuJ0klgumD",
        "outputId": "2a24e07d-0585-49aa-f91d-b6114e87a6d6"
      },
      "execution_count": null,
      "outputs": [
        {
          "output_type": "stream",
          "name": "stdout",
          "text": [
            "Help on function distancia in module __main__:\n",
            "\n",
            "distancia(x1, y1, x2, y2)\n",
            "    Calcula la distancia entre dos puntos en el espacio 2D.\n",
            "    \n",
            "    Parámetros:\n",
            "        x1 (float): Coordenada x del primer punto en el espacio.\n",
            "        y1 (float): Coordenada y del primer punto en el espacio.\n",
            "        x2 (float): Coordenada x del segundo punto en el espacio.\n",
            "        y2 (float): Coordenada y del segundo punto en el espacio.\n",
            "    \n",
            "    Retorna:\n",
            "        resultado (float): Distancia entre los dos puntos.\n",
            "\n"
          ]
        }
      ],
      "id": "BMuuJ0klgumD"
    },
    {
      "cell_type": "markdown",
      "metadata": {
        "id": "3riujRT6dRQ5"
      },
      "source": [
        "# Ejercicio para practicar\n",
        "\n",
        "Implementa una calculadora de fracciones usando funciones (esqueleto abajo).\n"
      ],
      "id": "3riujRT6dRQ5"
    },
    {
      "cell_type": "code",
      "metadata": {
        "id": "z-G4ZuUzdRQ5"
      },
      "execution_count": null,
      "outputs": [],
      "source": [
        "# Esqueleto: calculadora de fracciones (completa las funciones)\n",
        "def leer_fraccion():\n",
        "    # leer numerador y denominador (enteros) y retornarlos\n",
        "    pass\n",
        "\n",
        "def simplificar(num, den):\n",
        "    # retornar num, den simplificados (puedes usar math.gcd opcionalmente)\n",
        "    pass\n",
        "\n",
        "def sumar_fracciones(a_num, a_den, b_num, b_den):\n",
        "    # calcular la suma y usar simplificar antes de retornar\n",
        "    pass\n",
        "\n",
        "# Pruebas sugeridas (descomentar al completar):\n",
        "# n1, d1 = (1, 2)\n",
        "# n2, d2 = (1, 3)\n",
        "# rnum, rden = sumar_fracciones(n1, d1, n2, d2)\n",
        "# print(f\"Resultado: {rnum}/{rden}\")"
      ],
      "id": "z-G4ZuUzdRQ5"
    },
    {
      "cell_type": "markdown",
      "metadata": {
        "id": "-XwEqTgQdRQ5"
      },
      "source": [
        "### Recursos y enlaces\n",
        "- Documentación oficial: https://docs.python.org/3/tutorial/controlflow.html#defining-functions\n",
        "- Python Tutor (visualizador): https://pythontutor.com\n",
        "- Real Python — funciones: https://realpython.com/defining-your-own-python-function/"
      ],
      "id": "-XwEqTgQdRQ5"
    },
    {
      "cell_type": "markdown",
      "source": [
        "## Ejercicios"
      ],
      "metadata": {
        "id": "IvAlR9oo2fXN"
      },
      "id": "IvAlR9oo2fXN"
    },
    {
      "cell_type": "markdown",
      "source": [
        "#### a) Crea una función que retorne las primeras $n$ letras del abecedario."
      ],
      "metadata": {
        "id": "K61Im2xZiSsV"
      },
      "id": "K61Im2xZiSsV"
    },
    {
      "cell_type": "code",
      "execution_count": null,
      "metadata": {
        "id": "EsDsQbPM2fXP"
      },
      "outputs": [],
      "source": [
        "\"\"\"\n",
        "Aquí debajo escribe tu solución\n",
        "\"\"\"\n",
        "\n"
      ],
      "id": "EsDsQbPM2fXP"
    },
    {
      "cell_type": "markdown",
      "source": [
        "#### b) Crea una función que calcule la distancia entre dos puntos en el espacio 3D."
      ],
      "metadata": {
        "id": "yTsBWrIQiUyx"
      },
      "id": "yTsBWrIQiUyx"
    },
    {
      "cell_type": "code",
      "execution_count": null,
      "metadata": {
        "id": "7cjT5J9niUyz"
      },
      "outputs": [],
      "source": [
        "\"\"\"\n",
        "Aquí debajo escribe tu solución\n",
        "\"\"\"\n",
        "\n"
      ],
      "id": "7cjT5J9niUyz"
    }
  ]
}